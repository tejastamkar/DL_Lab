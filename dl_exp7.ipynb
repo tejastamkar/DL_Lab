{
  "nbformat": 4,
  "nbformat_minor": 0,
  "metadata": {
    "colab": {
      "provenance": []
    },
    "kernelspec": {
      "name": "python3",
      "display_name": "Python 3"
    },
    "language_info": {
      "name": "python"
    }
  },
  "cells": [
    {
      "cell_type": "code",
      "execution_count": 1,
      "metadata": {
        "colab": {
          "base_uri": "https://localhost:8080/"
        },
        "id": "TjbHKTeqygMU",
        "outputId": "7e8dd829-41e9-433d-b72c-150be6f6ddab"
      },
      "outputs": [
        {
          "output_type": "stream",
          "name": "stdout",
          "text": [
            "Shortest tour: ['A', 'B', 'D', 'C']\n",
            "Total distance: 80\n"
          ]
        }
      ],
      "source": [
        "import itertools\n",
        "\n",
        "def traveling_salesman_problem(graph):\n",
        "    cities = list(graph.keys())\n",
        "    num_cities = len(cities)\n",
        "\n",
        "    # Initialize the shortest tour and distance to infinity\n",
        "    shortest_tour = None\n",
        "    min_distance = float('inf')\n",
        "\n",
        "    # Iterate through all possible permutations of cities\n",
        "    for tour in itertools.permutations(cities):\n",
        "        total_distance = 0\n",
        "        # Calculate the total distance for the current tour\n",
        "        for i in range(num_cities - 1):\n",
        "            current_city = tour[i]\n",
        "            next_city = tour[i+1]\n",
        "\n",
        "            if next_city in graph[current_city]:\n",
        "                total_distance += graph[current_city][next_city]\n",
        "            else:\n",
        "                #Handle cases where there's no direct path between cities (optional)\n",
        "                total_distance = float('inf')\n",
        "                break  #Skip to the next permutation\n",
        "\n",
        "        # Add the distance from the last city back to the starting city\n",
        "        if total_distance != float('inf'):\n",
        "            last_city = tour[-1]\n",
        "            first_city = tour[0]\n",
        "            if first_city in graph[last_city]:\n",
        "                total_distance += graph[last_city][first_city]\n",
        "            else:\n",
        "                total_distance = float('inf')\n",
        "\n",
        "        # Update shortest tour and distance if a shorter tour is found\n",
        "        if total_distance < min_distance:\n",
        "            min_distance = total_distance\n",
        "            shortest_tour = list(tour)\n",
        "\n",
        "    return shortest_tour, min_distance\n",
        "\n",
        "# Example graph\n",
        "graph = {\n",
        "    'A': {'B': 10, 'C': 15, 'D': 20},\n",
        "    'B': {'A': 10, 'C': 35, 'D': 25},\n",
        "    'C': {'A': 15, 'B': 35, 'D': 30},\n",
        "    'D': {'A': 20, 'B': 25, 'C': 30}\n",
        "}\n",
        "\n",
        "# Find the shortest tour\n",
        "shortest_tour, min_distance = traveling_salesman_problem(graph)\n",
        "\n",
        "\n",
        "# Print the results\n",
        "print(\"Shortest tour:\", shortest_tour)\n",
        "print(\"Total distance:\", min_distance)\n"
      ]
    }
  ]
}