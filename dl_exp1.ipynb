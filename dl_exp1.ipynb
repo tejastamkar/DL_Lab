{
  "nbformat": 4,
  "nbformat_minor": 0,
  "metadata": {
    "colab": {
      "provenance": [],
      "gpuType": "T4"
    },
    "kernelspec": {
      "name": "python3",
      "display_name": "Python 3"
    },
    "language_info": {
      "name": "python"
    },
    "accelerator": "GPU"
  },
  "cells": [
    {
      "cell_type": "code",
      "execution_count": 1,
      "metadata": {
        "colab": {
          "base_uri": "https://localhost:8080/"
        },
        "id": "2WLj03bZEP_O",
        "outputId": "4c439726-8cc6-407e-f5c1-a05228dea8a8"
      },
      "outputs": [
        {
          "output_type": "stream",
          "name": "stderr",
          "text": [
            "/usr/local/lib/python3.11/dist-packages/keras/src/layers/core/dense.py:87: UserWarning: Do not pass an `input_shape`/`input_dim` argument to a layer. When using Sequential models, prefer using an `Input(shape)` object as the first layer in the model instead.\n",
            "  super().__init__(activity_regularizer=activity_regularizer, **kwargs)\n"
          ]
        },
        {
          "output_type": "stream",
          "name": "stdout",
          "text": [
            "Training AND gate model...\n",
            "AND gate model trained.\n",
            "Training OR gate model...\n",
            "OR gate model trained.\n",
            "Training XOR gate model...\n",
            "XOR gate model trained.\n",
            "Training NOT gate model...\n",
            "NOT gate model trained.\n",
            "\n",
            "Testing AND gate model:\n",
            "\u001b[1m1/1\u001b[0m \u001b[32m━━━━━━━━━━━━━━━━━━━━\u001b[0m\u001b[37m\u001b[0m \u001b[1m0s\u001b[0m 143ms/step\n",
            "[[0.02637331]\n",
            " [0.11934116]\n",
            " [0.12626146]\n",
            " [0.81854427]]\n",
            "\n",
            "Testing OR gate model:\n",
            "\u001b[1m1/1\u001b[0m \u001b[32m━━━━━━━━━━━━━━━━━━━━\u001b[0m\u001b[37m\u001b[0m \u001b[1m0s\u001b[0m 119ms/step\n",
            "[[0.5570833 ]\n",
            " [0.80934834]\n",
            " [0.8488724 ]\n",
            " [0.94999415]]\n",
            "\n",
            "Testing XOR gate model:\n",
            "\u001b[1m1/1\u001b[0m \u001b[32m━━━━━━━━━━━━━━━━━━━━\u001b[0m\u001b[37m\u001b[0m \u001b[1m0s\u001b[0m 116ms/step\n",
            "[[0.2637761 ]\n",
            " [0.797793  ]\n",
            " [0.8468268 ]\n",
            " [0.15194206]]\n",
            "\n",
            "Testing NOT gate model:\n",
            "\u001b[1m1/1\u001b[0m \u001b[32m━━━━━━━━━━━━━━━━━━━━\u001b[0m\u001b[37m\u001b[0m \u001b[1m0s\u001b[0m 136ms/step\n",
            "[[0.73535043]\n",
            " [0.18395111]]\n"
          ]
        }
      ],
      "source": [
        "import numpy as np\n",
        "import tensorflow as tf\n",
        "from tensorflow.keras.models import Sequential\n",
        "from tensorflow.keras.layers import Dense\n",
        "from tensorflow.keras.optimizers import Adam\n",
        "\n",
        "# AND Gate\n",
        "X_and = np.array([[0, 0], [0, 1], [1, 0], [1, 1]])\n",
        "y_and = np.array([[0], [0], [0], [1]])\n",
        "\n",
        "# OR Gate\n",
        "X_or = np.array([[0, 0], [0, 1], [1, 0], [1, 1]])\n",
        "y_or = np.array([[0], [1], [1], [1]])\n",
        "\n",
        "# XOR Gate\n",
        "X_xor = np.array([[0, 0], [0, 1], [1, 0], [1, 1]])\n",
        "y_xor = np.array([[0], [1], [1], [0]])\n",
        "\n",
        "# NOT Gate (only one input)\n",
        "X_not = np.array([[0], [1]])\n",
        "y_not = np.array([[1], [0]])\n",
        "\n",
        "# Function to create a simple neural network model\n",
        "\n",
        "\n",
        "def create_model(input_dim):\n",
        "    model = Sequential()\n",
        "    model.add(Dense(4, input_dim=input_dim, activation='relu'))\n",
        "    # Sigmoid activation for binary output\n",
        "    model.add(Dense(1, activation='sigmoid'))\n",
        "    model.compile(loss='binary_crossentropy',\n",
        "                  optimizer=Adam(), metrics=['accuracy'])\n",
        "    return model\n",
        "\n",
        "\n",
        "# Train the model for AND Gate\n",
        "model_and = create_model(2)\n",
        "print(\"Training AND gate model...\")\n",
        "model_and.fit(X_and, y_and, epochs=1000, verbose=0)\n",
        "print(\"AND gate model trained.\")\n",
        "\n",
        "# Train the model for OR Gate\n",
        "model_or = create_model(2)\n",
        "print(\"Training OR gate model...\")\n",
        "model_or.fit(X_or, y_or, epochs=1000, verbose=0)\n",
        "print(\"OR gate model trained.\")\n",
        "\n",
        "# Train the model for XOR Gate\n",
        "model_xor = create_model(2)\n",
        "print(\"Training XOR gate model...\")\n",
        "model_xor.fit(X_xor, y_xor, epochs=1000, verbose=0)\n",
        "print(\"XOR gate model trained.\")\n",
        "\n",
        "# Train the model for NOT Gate\n",
        "model_not = create_model(1)\n",
        "print(\"Training NOT gate model...\")\n",
        "model_not.fit(X_not, y_not, epochs=1000, verbose=0)\n",
        "print(\"NOT gate model trained.\")\n",
        "\n",
        "# Evaluate the models\n",
        "print(\"\\nTesting AND gate model:\")\n",
        "print(model_and.predict(X_and))\n",
        "\n",
        "print(\"\\nTesting OR gate model:\")\n",
        "print(model_or.predict(X_or))\n",
        "\n",
        "print(\"\\nTesting XOR gate model:\")\n",
        "print(model_xor.predict(X_xor))\n",
        "\n",
        "print(\"\\nTesting NOT gate model:\")\n",
        "print(model_not.predict(X_not))\n"
      ]
    }
  ]
}